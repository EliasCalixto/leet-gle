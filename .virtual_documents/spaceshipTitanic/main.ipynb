import tensorflow_decision_forests as tfdf
import pandas as pd

dataset = pd.read_csv("dataset.csv")
tf_dataset = tfdf.keras.pd_dataframe_to_tf_dataset(dataset, label="my_label")

model = tfdf.keras.RandomForestModel()
model.fit(tf_dataset)

print(model.summary())
